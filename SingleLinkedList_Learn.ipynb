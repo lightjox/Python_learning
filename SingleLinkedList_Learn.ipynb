{
 "cells": [
  {
   "cell_type": "markdown",
   "metadata": {},
   "source": [
    "Created by Elshad Karimov on 27/04/2020.\n",
    "Copyright © 2020 AppMillers. All rights reserved.\n",
    "\n",
    "# Learning record"
   ]
  },
  {
   "cell_type": "code",
   "execution_count": 2,
   "metadata": {},
   "outputs": [],
   "source": [
    "class Node:\n",
    "    def __init__(self, value = None):\n",
    "        self.value = value\n",
    "        self.next = None # reference nextNode"
   ]
  },
  {
   "cell_type": "code",
   "execution_count": 2,
   "metadata": {},
   "outputs": [],
   "source": [
    "class SLinkedList:\n",
    "    def __init__(self):\n",
    "        self.head = None # Node of head\n",
    "        self.tail = None # Node of tail\n",
    "    def __iter__(self): # for print out the inter\n",
    "        node = self.head\n",
    "        while node:\n",
    "            yield node\n",
    "            node = node.next\n",
    "    def insert(self, value, location):\n",
    "        newNode = Node(value)\n",
    "        if self.head is None: # first value in LinkList\n",
    "            self.head = newNode\n",
    "            self.tail = newNode\n",
    "        else:\n",
    "            if location == 0: # this is insert to head (first data)\n",
    "                newNode.next = self.head # (link to nextNode) head to second location\n",
    "                self.head = newNode # newNode to head\n",
    "            elif location == -1: # this is inser to tail (last data)\n",
    "                newNode.next = None #(in the Node reference, Due to it's a tail, nextNode is None)\n",
    "                self.tail.next = newNode # in LinkList, the old tail to link to new tail\n",
    "                self.tail = newNode # then new tail is newNode\n",
    "            else: # this is search the location to insert the Node\n",
    "                tempNode = self.head\n",
    "                index = 0\n",
    "                while index < location - 1:\n",
    "                    tempNode = tempNode.next\n",
    "                    index += 1\n",
    "                nextNode = tempNode.next\n",
    "                tempNode.next = newNode\n",
    "                newNode.next = nextNode\n",
    "                if tempNode == self.tail:\n",
    "                    self.tail=newNode    "
   ]
  },
  {
   "cell_type": "code",
   "execution_count": 11,
   "metadata": {},
   "outputs": [
    {
     "name": "stdout",
     "output_type": "stream",
     "text": [
      "[1]\n",
      "1\n"
     ]
    }
   ],
   "source": [
    "list1 = SLinkedList()\n",
    "list1.insert(1,1)\n",
    "print([node.value for node in list1])\n",
    "print(list1.tail.value)"
   ]
  }
 ],
 "metadata": {
  "interpreter": {
   "hash": "62415df00d73cf9429f680bdc63e128cd779b384709eb36cdb92205181e1c630"
  },
  "kernelspec": {
   "display_name": "Python 3.9.7 64-bit ('base': conda)",
   "language": "python",
   "name": "python3"
  },
  "language_info": {
   "codemirror_mode": {
    "name": "ipython",
    "version": 3
   },
   "file_extension": ".py",
   "mimetype": "text/x-python",
   "name": "python",
   "nbconvert_exporter": "python",
   "pygments_lexer": "ipython3",
   "version": "3.9.7"
  },
  "orig_nbformat": 4
 },
 "nbformat": 4,
 "nbformat_minor": 2
}
