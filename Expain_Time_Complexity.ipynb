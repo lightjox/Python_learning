{
 "cells": [
  {
   "cell_type": "markdown",
   "metadata": {},
   "source": [
    "# Created by Elshad Karimov on 3/17/20.\n",
    "# Copyright © 2020 Elshad Karimov. All rights reserved.\n",
    "\n",
    "## learning record"
   ]
  },
  {
   "cell_type": "code",
   "execution_count": 2,
   "metadata": {},
   "outputs": [],
   "source": [
    "array = [1, 2, 3, 4, 5]"
   ]
  },
  {
   "cell_type": "code",
   "execution_count": null,
   "metadata": {},
   "outputs": [],
   "source": [
    "######  Constant time complexity  #######\n",
    "print('######  Constant time complexity  #######')\n",
    "print(array[0])"
   ]
  },
  {
   "cell_type": "code",
   "execution_count": null,
   "metadata": {},
   "outputs": [],
   "source": [
    "######  Linear time complexity  #######\n",
    "print('######  Linear time complexity  #######')\n",
    "for element in array:\n",
    "     print(element)"
   ]
  },
  {
   "cell_type": "code",
   "execution_count": null,
   "metadata": {},
   "outputs": [],
   "source": [
    "######  Logarithmic time complexity  #######\n",
    "print('######  Logarithmic time complexity  #######')\n",
    "for index in range(0,len(array),3):\n",
    "     print(array[index])"
   ]
  },
  {
   "cell_type": "code",
   "execution_count": null,
   "metadata": {},
   "outputs": [],
   "source": [
    "######  Quadratic time complexity  #######\n",
    "print('######  Quadratic time complexity  #######')\n",
    "for x in array:\n",
    "    for y in array:\n",
    "         print(x,y)"
   ]
  },
  {
   "cell_type": "code",
   "execution_count": null,
   "metadata": {},
   "outputs": [],
   "source": [
    "######  Exponential time complexity  #######\n",
    "print('######  Exponential time complexity  #######')\n",
    "def fibonacci(n):\n",
    "    if n <= 1:\n",
    "        return n\n",
    "    return fibonacci(n-1) + fibonacci(n-2)"
   ]
  },
  {
   "cell_type": "code",
   "execution_count": null,
   "metadata": {},
   "outputs": [],
   "source": [
    "######  Add vs Multiply ####### \n",
    "arrayA = [1,2,3,4,5,6,7,8,9]\n",
    "arrayB = [11,12,13,14,15,16,17,18,19] \n",
    "for a in arrayA:\n",
    "    print(a)\n",
    "\n",
    "for b in arrayB:\n",
    "    print(b)\n",
    "\n",
    "for a in arrayA:\n",
    "    for b in arrayB:\n",
    "        print(a,b)"
   ]
  },
  {
   "cell_type": "code",
   "execution_count": null,
   "metadata": {},
   "outputs": [],
   "source": [
    "######  Iterative algorithm - finding the biggest number in the array ####### \n",
    "\n",
    "sample1Array = [1,10,45,33,23,45,67,2,3,33,55,11,65,76,34,35,27,99]\n",
    "\n",
    "def findBiggestNumber(sampleArray):\n",
    "    biggestNumber = sampleArray[0]\n",
    "    for index in range(1,len(sampleArray)):\n",
    "        if sampleArray[index] > biggestNumber:\n",
    "            biggestNumber = sampleArray[index]\n",
    "    print(biggestNumber)\n",
    "\n",
    "findBiggestNumber(sample1Array)"
   ]
  },
  {
   "cell_type": "code",
   "execution_count": null,
   "metadata": {},
   "outputs": [],
   "source": [
    "######  Recursive algorithm - finding the biggest number in the array ####### \n",
    "\n",
    "def findMaxNumRec(sampleArray, n):\n",
    "    if n == 1:\n",
    "       return sampleArray[0]\n",
    "    return max(sampleArray[n-1],findMaxNumRec(sampleArray,n-1))\n",
    "\n",
    "print(findMaxNumRec(sample1Array,len(sample1Array)))"
   ]
  },
  {
   "cell_type": "code",
   "execution_count": null,
   "metadata": {},
   "outputs": [],
   "source": [
    "######  Recursive algorithm multiple calls ####### \n",
    "\n",
    "def f(n):\n",
    "    if n <= 1:\n",
    "        return 1\n",
    "    return f(n-1) + f(n-1)\n",
    "\n",
    "print(f(3))"
   ]
  },
  {
   "cell_type": "code",
   "execution_count": null,
   "metadata": {},
   "outputs": [],
   "source": [
    "######  Quiz Questions ####### \n",
    "\n",
    "\n",
    "def f1(n):\n",
    "    if n <= 0:\n",
    "        return 1\n",
    "    else:\n",
    "        return 1 + f1(n-1)\n",
    "\n",
    "\n",
    "def f2(n):\n",
    "    if n <= 0:\n",
    "        return 1\n",
    "    else:\n",
    "        return 1 + f2(n-5)\n",
    "\n",
    "\n",
    "def f3(n):\n",
    "    if n <= 0:\n",
    "        return 1\n",
    "    else:\n",
    "        return 1 + f3(n/5)\n",
    "\n",
    "\n",
    "def f4(n,m,o):\n",
    "    if n<=0:\n",
    "        print(n,m,o)\n",
    "    else:\n",
    "        f4(n-1,m+1,o)\n",
    "        f4(n-1,m,o+1)\n",
    "\n",
    "def f5(n):\n",
    "    for i in range(0,n,2):\n",
    "        print(i)  \n",
    "    if n<=0:\n",
    "        return 1\n",
    "    else:\n",
    "        return 1 + f5(n-5)"
   ]
  }
 ],
 "metadata": {
  "interpreter": {
   "hash": "62415df00d73cf9429f680bdc63e128cd779b384709eb36cdb92205181e1c630"
  },
  "kernelspec": {
   "display_name": "Python 3.9.7 64-bit ('base': conda)",
   "language": "python",
   "name": "python3"
  },
  "language_info": {
   "codemirror_mode": {
    "name": "ipython",
    "version": 3
   },
   "file_extension": ".py",
   "mimetype": "text/x-python",
   "name": "python",
   "nbconvert_exporter": "python",
   "pygments_lexer": "ipython3",
   "version": "3.9.7"
  },
  "orig_nbformat": 4
 },
 "nbformat": 4,
 "nbformat_minor": 2
}
