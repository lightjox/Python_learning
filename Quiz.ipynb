{
 "cells": [
  {
   "cell_type": "code",
   "execution_count": 69,
   "metadata": {},
   "outputs": [
    {
     "data": {
      "text/plain": [
       "3"
      ]
     },
     "execution_count": 69,
     "metadata": {},
     "output_type": "execute_result"
    }
   ],
   "source": [
    "# sum the number\n",
    "#e.g  \n",
    "# 165 = 1+6+5 = 12\n",
    "# 12654 = 1+2+6+5+4 = 18 \n",
    "\n",
    "def sumofnumber(n):\n",
    "    ans = 0\n",
    "    while n >= 10:\n",
    "        ans += n % 10\n",
    "        n = n // 10\n",
    "    ans += (n % 10)\n",
    "    return ans\n",
    "\n",
    "sumofnumber(12654)\n",
    "sumofnumber(12)"
   ]
  }
 ],
 "metadata": {
  "interpreter": {
   "hash": "62415df00d73cf9429f680bdc63e128cd779b384709eb36cdb92205181e1c630"
  },
  "kernelspec": {
   "display_name": "Python 3.9.7 64-bit ('base': conda)",
   "language": "python",
   "name": "python3"
  },
  "language_info": {
   "codemirror_mode": {
    "name": "ipython",
    "version": 3
   },
   "file_extension": ".py",
   "mimetype": "text/x-python",
   "name": "python",
   "nbconvert_exporter": "python",
   "pygments_lexer": "ipython3",
   "version": "3.9.7"
  },
  "orig_nbformat": 4
 },
 "nbformat": 4,
 "nbformat_minor": 2
}
