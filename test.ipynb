{
 "cells": [
  {
   "cell_type": "code",
   "execution_count": 10,
   "metadata": {},
   "outputs": [
    {
     "data": {
      "text/plain": [
       "832040"
      ]
     },
     "execution_count": 10,
     "metadata": {},
     "output_type": "execute_result"
    }
   ],
   "source": [
    "def fibonacci(n):\n",
    "    assert n >= 0 and int(n) == n , \"please input integer postive\" \n",
    "    if n in [0,1]:\n",
    "        return n\n",
    "    else:\n",
    "        return (fibonacci(n-1) + fibonacci(n-2))\n",
    "\n",
    "fibonacci(30)"
   ]
  },
  {
   "cell_type": "code",
   "execution_count": 40,
   "metadata": {},
   "outputs": [
    {
     "data": {
      "text/plain": [
       "[1, 0, 0, 1, 0, 1, 1, 0, 0, 0]"
      ]
     },
     "execution_count": 40,
     "metadata": {},
     "output_type": "execute_result"
    }
   ],
   "source": [
    "# use Recursion for Decimal to Binary\n",
    "def tento2 (n):\n",
    "    lt = []\n",
    "    def func(n):\n",
    "        if  n == 1 :\n",
    "            lt.append(1)\n",
    "        else:\n",
    "            tento2( n//2 )\n",
    "            lt.append( n%2 )\n",
    "        return lt\n",
    "    return func(n)\n",
    "        \n",
    "\n",
    "tento2(600)\n",
    "\n"
   ]
  },
  {
   "cell_type": "code",
   "execution_count": 52,
   "metadata": {},
   "outputs": [
    {
     "data": {
      "text/plain": [
       "600"
      ]
     },
     "execution_count": 52,
     "metadata": {},
     "output_type": "execute_result"
    }
   ],
   "source": [
    "#Binary to Decimal\n",
    "def bito10(lt):\n",
    "    def func(lt):\n",
    "        ans = 0\n",
    "        for i in range(len(lt)):\n",
    "            if lt[i] == 1:\n",
    "                ans += (2 ** (len(lt) -1 - i))\n",
    "        return ans\n",
    "    return func(lt)\n",
    "x = [1, 0, 0, 1, 0, 1, 1, 0, 0, 0]\n",
    "\n",
    "bito10(x)"
   ]
  }
 ],
 "metadata": {
  "interpreter": {
   "hash": "62415df00d73cf9429f680bdc63e128cd779b384709eb36cdb92205181e1c630"
  },
  "kernelspec": {
   "display_name": "Python 3.9.7 64-bit ('base': conda)",
   "language": "python",
   "name": "python3"
  },
  "language_info": {
   "codemirror_mode": {
    "name": "ipython",
    "version": 3
   },
   "file_extension": ".py",
   "mimetype": "text/x-python",
   "name": "python",
   "nbconvert_exporter": "python",
   "pygments_lexer": "ipython3",
   "version": "3.9.7"
  },
  "orig_nbformat": 4
 },
 "nbformat": 4,
 "nbformat_minor": 2
}
